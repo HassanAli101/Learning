{
  "nbformat": 4,
  "nbformat_minor": 0,
  "metadata": {
    "colab": {
      "provenance": [],
      "authorship_tag": "ABX9TyMpXog3Huim3rd69z09e7xM",
      "include_colab_link": true
    },
    "kernelspec": {
      "name": "python3",
      "display_name": "Python 3"
    },
    "language_info": {
      "name": "python"
    }
  },
  "cells": [
    {
      "cell_type": "markdown",
      "metadata": {
        "id": "view-in-github",
        "colab_type": "text"
      },
      "source": [
        "<a href=\"https://colab.research.google.com/github/HassanAli101/Learning/blob/main/DataStructures.ipynb\" target=\"_parent\"><img src=\"https://colab.research.google.com/assets/colab-badge.svg\" alt=\"Open In Colab\"/></a>"
      ]
    },
    {
      "cell_type": "markdown",
      "source": [
        "Data structure is a way of organizing data so it can be used efficiently.\n",
        "Essential ingredients in fast and powerful algorithms\n",
        "Need to know which data structure to use in which problem\n",
        "Abstract data type examples: List,  queue, map, vehicle (defines how a data structur should behave)\n",
        "Implimentation: Dynamic array, linked list, array based queue, stack based queueu, tree map, hash map, bicycle, cycle\n"
      ],
      "metadata": {
        "id": "80W4eamiDzVS"
      }
    },
    {
      "cell_type": "markdown",
      "source": [
        "Computational Complexity:\n",
        "How much time and space does it need to run?\n",
        "Big-O notation:\n",
        "It tells what will happen in case of worst case scenario\n",
        "\"n\" is the input size in the algorithm\n",
        "Concrete example: \n",
        "mathematical equations, or looping with respect to a constant value will always run in constant time O(1)\n",
        "looping with respect to a variable (while i < n) run in a linear time O(n)\n",
        "two nested for loops, each looping with respect to a variable run in qudratic time O(n^2)\n",
        "binary search has a logarithmic time complexity O(log(n)) because it discards half of the aray each iteration it is run, so it takes complexity of log to the base 2 of n\n",
        "outer loop: i<3*n. inner loop1: j=10, j <= 50, inner loop2: j<n*n*n, j+2. The complexity of this structure will be 3n * (40+ n^3/2) where /2 because of j+2\n",
        "subsets of set = O(2^n)\n",
        "all permutations of string: O(n!)\n",
        "Sorting using mergesort = O(nlog(n))\n",
        "iterating array of size n x m = O(nm)"
      ],
      "metadata": {
        "id": "0O_j5MJHD2_R"
      }
    },
    {
      "cell_type": "markdown",
      "source": [
        "Static and Dynamic Arrays:\n",
        "Static array is a fixed length container. each slot can be referenced with a number. they are in a continous memory\n",
        "Can be used as lookup tables, can be used to return multiple values from a function, temporarily storing objects. also have a use in dynamic programming\n",
        "Complexity: \n",
        "Access: O(1)\n",
        "Search: O(n) have to go through every element\n",
        "Insertion: O(n) for dynamic arrays only because we potentially have to shift them one step ahead.\n",
        "Appending: O(1) for dynamic arrays only\n",
        "Deletion: O(n) for dynamic arrays only\n",
        "The first element has position 0.\n",
        "elements can be iterated using for each loop\n",
        "A[0] = A at poisition zero\n",
        "Dynamic arrays can grow and shrink in size.\n",
        "Can implimnent dynamic arrays using a static array, make a new one and add previous elements to it if it is full"
      ],
      "metadata": {
        "id": "S5BRbx9YD7HR"
      }
    },
    {
      "cell_type": "markdown",
      "source": [
        "Linked Lists:\n",
        "Linked list is a sequential list of nodes that hold data which point to other nodes containing data.\n",
        "Every node has a pointer to the next node and the last node always has a null reference.\n",
        "Linked lists used in abstract data implimentations like stacks and queues because of their great time complexity for adding and removing elements.\n",
        "used in circular linked list to make last node point to first one, makin it round robin.\n",
        "Used to model real world objects like trains\n",
        "Terminology:\n",
        "we always have a pointer reference to the head of the linked list because we need to know where to start traversing the linked list\n",
        "Tail: points at head\n",
        "Pointer: reference to another node\n",
        "Node: object of a struct or a class containing data and pointer"
      ],
      "metadata": {
        "id": "4hX0D3O4D9qp"
      }
    },
    {
      "cell_type": "markdown",
      "source": [
        "Singly linked list: \n",
        "every node has pointer to next node\n",
        "Doubly linked list:\n",
        "every node has pointer to next AND previous node\n",
        "Tradeoffs: \n",
        "Single linked lists uses less memory (becuase pointers take 8 bytes of space on 64 bit machine) and simpler implimentations\n",
        "Singly linked list downside is we can not access previous elements\n",
        "Doubly linked list can be traversed backwards, and can remove node in constant time and patch the hole created.\n",
        "Doubly linked list takes 2x memory."
      ],
      "metadata": {
        "id": "KqUwNXMQGASn"
      }
    },
    {
      "cell_type": "markdown",
      "source": [
        "Inserting singly linked list:\n",
        "better to have two variables, current and previous, when inserting at current, make the previous point at the new node and make the new node point at the current node. (or something like that, details can be seen when implimenting)\n",
        "Doubly linked list:\n",
        "in a double linked list, make three variables and store the front, back and current node, and adjust their pointers accordingly you will be changing 4 pointers,\n"
      ],
      "metadata": {
        "id": "fSjwjI0rGnJU"
      }
    },
    {
      "cell_type": "markdown",
      "source": [
        "Removing singly linked list:\n",
        "Again, use two pointers of current and previous. go to the next of the node to be removed, make the previous's next point to the current node\n",
        "Be sure to remove temp pointers and point them to NULL to avoid all memory leaks.\n",
        "Doubly linked list:\n",
        "we can use one pointer only, when we reach the removing node, make the next of the previous node point to the next of the current node and same with the next of the current node to be deleted.\n"
      ],
      "metadata": {
        "id": "KJfds23MHaIT"
      }
    },
    {
      "cell_type": "markdown",
      "source": [
        "Complexity analysis:\n",
        "Search is: O(n) for both\n",
        "Insert at head/tail is: O(1) for both\n",
        "remove at head is O(1) for both\n",
        "Remove at tail of Singly is: O(n) because we have to traverse the list to see what should replace the tail\n",
        "Remove at tail of doubly linked list: O(1) because there is a pointer to tail, we just need to see its prev node\n",
        "Remove in middle is: O(n) for both"
      ],
      "metadata": {
        "id": "2mDITZS9KoJV"
      }
    },
    {
      "cell_type": "markdown",
      "source": [],
      "metadata": {
        "id": "5CYoHfWHLf7U"
      }
    }
  ]
}