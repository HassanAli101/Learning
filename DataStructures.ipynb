{
  "nbformat": 4,
  "nbformat_minor": 0,
  "metadata": {
    "colab": {
      "provenance": [],
      "authorship_tag": "ABX9TyMFJMsuA+yZKtkI5zeDLvfP",
      "include_colab_link": true
    },
    "kernelspec": {
      "name": "python3",
      "display_name": "Python 3"
    },
    "language_info": {
      "name": "python"
    }
  },
  "cells": [
    {
      "cell_type": "markdown",
      "metadata": {
        "id": "view-in-github",
        "colab_type": "text"
      },
      "source": [
        "<a href=\"https://colab.research.google.com/github/HassanAli101/Learning/blob/main/DataStructures.ipynb\" target=\"_parent\"><img src=\"https://colab.research.google.com/assets/colab-badge.svg\" alt=\"Open In Colab\"/></a>"
      ]
    },
    {
      "cell_type": "markdown",
      "source": [
        "Data structure is a way of organizing data so it can be used efficiently.\n",
        "Essential ingredients in fast and powerful algorithms\n",
        "Need to know which data structure to use in which problem\n",
        "Abstract data type examples: List,  queue, map, vehicle (defines how a data structur should behave)\n",
        "Implimentation: Dynamic array, linked list, array based queue, stack based queueu, tree map, hash map, bicycle, cycle\n"
      ],
      "metadata": {
        "id": "80W4eamiDzVS"
      }
    },
    {
      "cell_type": "markdown",
      "source": [
        "Computational Complexity:\n",
        "How much time and space does it need to run?\n",
        "Big-O notation:\n",
        "It tells what will happen in case of worst case scenario\n",
        "\"n\" is the input size in the algorithm\n",
        "Concrete example: \n",
        "mathematical equations, or looping with respect to a constant value will always run in constant time O(1)\n",
        "looping with respect to a variable (while i < n) run in a linear time O(n)\n",
        "two nested for loops, each looping with respect to a variable run in qudratic time O(n^2)\n",
        "binary search has a logarithmic time complexity O(log(n)) because it discards half of the aray each iteration it is run, so it takes complexity of log to the base 2 of n\n",
        "outer loop: i<3*n. inner loop1: j=10, j <= 50, inner loop2: j<n*n*n, j+2. The complexity of this structure will be 3n * (40+ n^3/2) where /2 because of j+2\n",
        "subsets of set = O(2^n)\n",
        "all permutations of string: O(n!)\n",
        "Sorting using mergesort = O(nlog(n))\n",
        "iterating array of size n x m = O(nm)"
      ],
      "metadata": {
        "id": "0O_j5MJHD2_R"
      }
    },
    {
      "cell_type": "markdown",
      "source": [
        "Static and Dynamic Arrays:\n",
        "Static array is a fixed length container. each slot can be referenced with a number. they are in a continous memory\n",
        "Can be used as lookup tables, can be used to return multiple values from a function, temporarily storing objects. also have a use in dynamic programming\n",
        "Complexity: \n",
        "Access: O(1)\n",
        "Search: O(n) have to go through every element\n",
        "Insertion: O(n) for dynamic arrays only because we potentially have to shift them one step ahead.\n",
        "Appending: O(1) for dynamic arrays only\n",
        "Deletion: O(n) for dynamic arrays only\n",
        "The first element has position 0.\n",
        "elements can be iterated using for each loop\n",
        "A[0] = A at poisition zero\n",
        "Dynamic arrays can grow and shrink in size.\n",
        "Can implimnent dynamic arrays using a static array, make a new one and add previous elements to it if it is full"
      ],
      "metadata": {
        "id": "S5BRbx9YD7HR"
      }
    },
    {
      "cell_type": "markdown",
      "source": [
        "Linked Lists:\n",
        "Linked list is a sequential list of nodes that hold data which point to other nodes containing data.\n"
      ],
      "metadata": {
        "id": "4hX0D3O4D9qp"
      }
    }
  ]
}