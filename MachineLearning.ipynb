{
  "nbformat": 4,
  "nbformat_minor": 0,
  "metadata": {
    "colab": {
      "provenance": [],
      "authorship_tag": "ABX9TyPy6vzvbu5ZnOYyU5XYqG/X",
      "include_colab_link": true
    },
    "kernelspec": {
      "name": "python3",
      "display_name": "Python 3"
    },
    "language_info": {
      "name": "python"
    }
  },
  "cells": [
    {
      "cell_type": "markdown",
      "metadata": {
        "id": "view-in-github",
        "colab_type": "text"
      },
      "source": [
        "<a href=\"https://colab.research.google.com/github/HassanAli101/Learning/blob/main/MachineLearning.ipynb\" target=\"_parent\"><img src=\"https://colab.research.google.com/assets/colab-badge.svg\" alt=\"Open In Colab\"/></a>"
      ]
    },
    {
      "cell_type": "code",
      "execution_count": null,
      "metadata": {
        "id": "TWwFI13g9qIa"
      },
      "outputs": [],
      "source": [
        "\n",
        "import numpy as np\n",
        "import pandas as pd\n",
        "import matplotlib.pyplot as plt"
      ]
    },
    {
      "cell_type": "code",
      "source": [
        "cols = [\"fLength\", \"fWidth\", \"fSize\", \"fConcl\", \"fAsym\", \"fM3Long\", \"fM3Trans\", \"fAlpha\", \"fDist\", \"class\"]\n",
        "df = pd.read_csv(\"magic04.data\", names=cols)\n",
        "df.head\n",
        "\n",
        "df[\"class\"] = (df[\"class\"] == \"g\").astype(int)\n",
        "df.head"
      ],
      "metadata": {
        "colab": {
          "base_uri": "https://localhost:8080/"
        },
        "id": "3crOvcLW-y8H",
        "outputId": "941e8dfb-c252-497f-bb7d-1480c8ee05bb"
      },
      "execution_count": null,
      "outputs": [
        {
          "output_type": "execute_result",
          "data": {
            "text/plain": [
              "<bound method NDFrame.head of            fLength  fWidth   fSize  fConcl     fAsym   fM3Long  fM3Trans  \\\n",
              "28.7967    16.0021  2.6449  0.3918  0.1982   27.7004   22.0110   -8.2027   \n",
              "31.6036    11.7235  2.5185  0.5303  0.3773   26.2722   23.8238   -9.9574   \n",
              "162.0520  136.0310  4.0612  0.0374  0.0187  116.7410  -64.8580  -45.2160   \n",
              "23.8172     9.5728  2.3385  0.6147  0.3922   27.2107   -6.4633   -7.1513   \n",
              "75.1362    30.9205  3.1611  0.3168  0.1832   -5.5277   28.5525   21.8393   \n",
              "...            ...     ...     ...     ...       ...       ...       ...   \n",
              "21.3846    10.9170  2.6161  0.5857  0.3934   15.2618   11.5245    2.8766   \n",
              "28.9452     6.7020  2.2672  0.5351  0.2784   37.0816   13.1853   -2.9632   \n",
              "75.4455    47.5305  3.4483  0.1417  0.0549   -9.3561   41.0562   -9.4662   \n",
              "120.5135   76.9018  3.9939  0.0944  0.0683    5.8043  -93.5224  -63.8389   \n",
              "187.1814   53.0014  3.2093  0.2876  0.1539 -167.3125 -168.4558   31.4755   \n",
              "\n",
              "           fAlpha     fDist  class  \n",
              "28.7967   40.0920   81.8828      1  \n",
              "31.6036    6.3609  205.2610      1  \n",
              "162.0520  76.9600  256.7880      1  \n",
              "23.8172   10.4490  116.7370      1  \n",
              "75.1362    4.6480  356.4620      1  \n",
              "...           ...       ...    ...  \n",
              "21.3846    2.4229  106.8258      0  \n",
              "28.9452   86.7975  247.4560      0  \n",
              "75.4455   30.2987  256.5166      0  \n",
              "120.5135  84.6874  408.3166      0  \n",
              "187.1814  52.7310  272.3174      0  \n",
              "\n",
              "[19020 rows x 10 columns]>"
            ]
          },
          "metadata": {},
          "execution_count": 5
        }
      ]
    },
    {
      "cell_type": "code",
      "source": [],
      "metadata": {
        "id": "5MJ7XKPbGG9K"
      },
      "execution_count": null,
      "outputs": []
    },
    {
      "cell_type": "markdown",
      "source": [
        "Theory Crash Course:\n",
        "Machine learning focuses on algorithms which help a computer to learn from data without explicit programming\n",
        "AI has the goals of making algorithms that do human like behaviour\n",
        "ML is a subset of AI that tries to solve problems and make preidictions using data\n",
        "Data science finds patterns and draw insights from ML\n",
        "Supervised learning: Labelled inputs, we can train models with questions and answers.\n",
        "Unsupervised learning: we use inputs to learn the patterns in the data.\n",
        "Reinforcement learning: learning in interactive environment based on rewards and penalties, more like training a dog \n"
      ],
      "metadata": {
        "id": "GLcJpPGr-00G"
      }
    }
  ]
}